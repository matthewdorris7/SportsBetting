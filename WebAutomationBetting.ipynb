{
 "cells": [
  {
   "cell_type": "code",
   "execution_count": null,
   "metadata": {},
   "outputs": [],
   "source": [
    "lower_bound = .5\n",
    "upper_bound = .95\n",
    "total_bet = 100\n",
    "\n",
    "def odds(probability):\n",
    "        line = probability*100/(1-probability)\n",
    "        line = line*-1\n",
    "        return line\n",
    "\n",
    "print(\"Odds for \" + str(lower_bound) + \" would be \" + str(odds(lower_bound)) )\n",
    "print(\"Odds for \" + str(upper_bound) + \" would be \" + str(odds(upper_bound)) )\n",
    "lower = odds(lower_bound)\n",
    "upper = odds(upper_bound)\n",
    "lower = int(lower)\n",
    "upper = int(upper)\n"
   ]
  },
  {
   "cell_type": "code",
   "execution_count": null,
   "metadata": {},
   "outputs": [],
   "source": [
    "import requests\n",
    "import pandas as pd\n",
    "import os\n",
    "import datetime\n",
    "import time \n",
    "from selenium import webdriver\n",
    "from selenium.webdriver.common.keys import Keys\n",
    "from bs4 import BeautifulSoup\n",
    "from selenium.webdriver.common.by import By\n",
    "from selenium.webdriver.support.ui import WebDriverWait\n",
    "from selenium.webdriver.support import expected_conditions as EC\n",
    "\n",
    "driver = webdriver.Chrome(executable_path=r\"C:\\\\Users\\\\Matt\\\\Downloads\\\\chromedriver.exe\")\n",
    "\n",
    "urlMLB = \"https://www.bovada.lv/sports/live?overlay=login\"\n",
    "user = \"\"\n",
    "password = \"\"\n",
    "driver.get(urlMLB)\n",
    "wait = WebDriverWait(driver,100)\n",
    "#try:\n",
    "username = wait.until(EC.presence_of_element_located((By.XPATH,\"\"\"//*[@id=\"email\"]\"\"\")))\n",
    "username.send_keys(user)\n",
    "\n",
    "driver.find_element_by_xpath(\"\"\"//*[@id=\"login-password\"]\"\"\").send_keys(password)\n",
    "rememberMeBtn = wait.until(EC.element_to_be_clickable((By.XPATH,\"\"\"//*[@id=\"remember-me-label\"]\"\"\")))\n",
    "rememberMeBtn.click()\n",
    "logInBtn = wait.until(EC.element_to_be_clickable((By.XPATH,\"\"\"//*[@id=\"login-submit\"]\"\"\")))\n",
    "logInBtn.click()\n",
    "# except TimeoutException:\n",
    "#     print (\"TimeoutException\")\n",
    "# except NoSuchElementException:\n",
    "#     print (\"NoSuchElementException\")\n",
    "#except: \n",
    "    #print(\"doesnt work\")"
   ]
  },
  {
   "cell_type": "code",
   "execution_count": null,
   "metadata": {},
   "outputs": [],
   "source": [
    "time.sleep(10)\n",
    "content = driver.find_elements_by_class_name('bet-btn')\n",
    "counter = 0 \n",
    "goodBets = []\n",
    "for i in range(len(content)):\n",
    "    try:\n",
    "        x = int(content[i].text)\n",
    "        if (int(content[i].text) < lower and  int(content[i].text) > upper) :\n",
    "            counter = counter + 1\n",
    "            content[i].click()\n",
    "            print(counter)\n",
    "            goodBets.append(content[i])\n",
    "    except:\n",
    "        continue\n",
    "print(str(counter) + \" total bets within threshold\")\n",
    "print(len(goodBets))\n",
    "goodBets\n",
    "\n"
   ]
  },
  {
   "cell_type": "code",
   "execution_count": null,
   "metadata": {},
   "outputs": [],
   "source": [
    "bet_amount = int(total_bet/len(goodBets))\n",
    "bet_amount"
   ]
  },
  {
   "cell_type": "code",
   "execution_count": null,
   "metadata": {},
   "outputs": [],
   "source": [
    "def placeBet():\n",
    "    goodBets[0].click()\n",
    "    rememberMe = wait.until(EC.element_to_be_clickable((By.XPATH,\"\"\"/html/body/bx-site/ng-component/div/sp-main/div/sp-overlay-alert/div/div/div/section/div[2]/div/label\"\"\")))\n",
    "    rememberMe.click()\n",
    "    gotItButton = wait.until(EC.element_to_be_clickable((By.XPATH,\"\"\"/html/body/bx-site/ng-component/div/sp-main/div/sp-overlay-alert/div/div/div/section/div[2]/button\"\"\")))\n",
    "    gotItButton.click()\n",
    "    for i in goodBets:\n",
    "        try:\n",
    "            time.sleep(5)\n",
    "            i.click()\n",
    "            print(\"Executed\")\n",
    "            print(i)\n",
    "        except:\n",
    "            print(\"Didn't Execute\")\n",
    "            continue\n",
    "            \n",
    "            \n",
    "placeBet()   \n",
    "\n",
    "\n",
    "            "
   ]
  },
  {
   "cell_type": "code",
   "execution_count": null,
   "metadata": {},
   "outputs": [],
   "source": [
    "bets = driver.find_elements_by_xpath(\"\"\"//*[@id=\"default-input--risk\"]\"\"\")\n",
    "\n",
    "for i in bets:\n",
    "    i.send_keys(bet_amount)\n",
    "    \n",
    "    \n",
    "            time.sleep(10)\n",
    "            driver.find_element_by_xpath(\"\"\"//*[@id=\"default-input--risk\"]\"\"\").click()\n",
    "            time.sleep(10)\n",
    "            driver.find_element_by_xpath(\"\"\"//*[@id=\"default-input--risk\"]\"\"\").send_keys(\"1\")\n",
    "            time.sleep(10)\n",
    "            driver.find_element_by_xpath(\"\"\"/html/body/bx-site/ng-component/div/sp-main/div/main/section/div/div[1]/sp-betslip/div/div/footer/button\"\"\").click()\n",
    "            time.sleep(10)\n",
    "            driver.find_element_by_xpath(\"\"\"/html/body/bx-site/ng-component/div/sp-main/div/main/section/div/div[1]/sp-betslip/div/div/footer/button\"\"\").click()"
   ]
  },
  {
   "cell_type": "code",
   "execution_count": null,
   "metadata": {},
   "outputs": [],
   "source": []
  },
  {
   "cell_type": "code",
   "execution_count": null,
   "metadata": {},
   "outputs": [],
   "source": []
  },
  {
   "cell_type": "code",
   "execution_count": null,
   "metadata": {},
   "outputs": [],
   "source": []
  }
 ],
 "metadata": {
  "kernelspec": {
   "display_name": "Python 3",
   "language": "python",
   "name": "python3"
  },
  "language_info": {
   "codemirror_mode": {
    "name": "ipython",
    "version": 3
   },
   "file_extension": ".py",
   "mimetype": "text/x-python",
   "name": "python",
   "nbconvert_exporter": "python",
   "pygments_lexer": "ipython3",
   "version": "3.6.4"
  }
 },
 "nbformat": 4,
 "nbformat_minor": 2
}
