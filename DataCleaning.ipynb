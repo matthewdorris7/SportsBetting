{
 "cells": [
  {
   "cell_type": "code",
   "execution_count": null,
   "metadata": {},
   "outputs": [],
   "source": [
    "writer = pd.ExcelWriter('WebScraperOutput.xlsx')\n",
    "df.to_excel(writer,'Sheet1')\n",
    "writer.save()"
   ]
  },
  {
   "cell_type": "code",
   "execution_count": null,
   "metadata": {},
   "outputs": [],
   "source": [
    "df = pd.read_excel(r'C:\\Users\\Matt\\WebScraperOutput.xlsx')\n",
    "df\n",
    "\n",
    "def teams(row):\n",
    "    val = row['new_col'].split(\" \", 1)\n",
    "    return val[1]\n",
    "df['Teams'] = df.apply(teams, axis=1)\n",
    "df = df[['Teams']]\n",
    "df"
   ]
  },
  {
   "cell_type": "code",
   "execution_count": null,
   "metadata": {},
   "outputs": [],
   "source": [
    "df[\"Teams\"] = df[\"Teams\"].str.replace(\"\\n\",\" \")\n",
    "df"
   ]
  },
  {
   "cell_type": "code",
   "execution_count": null,
   "metadata": {},
   "outputs": [],
   "source": [
    "def teams0(row):\n",
    "    val = row['Teams'].split(\":\", 1)\n",
    "    return val[1]\n",
    "def teams1(row):\n",
    "    val = row['Teams'].split(\":\", 1)\n",
    "    return val[0]\n",
    "df['Teams0'] = df.apply(teams0, axis=1)\n",
    "df['Teams1'] = df.apply(teams1, axis=1)\n"
   ]
  },
  {
   "cell_type": "code",
   "execution_count": null,
   "metadata": {},
   "outputs": [],
   "source": [
    "df = df[['Teams1', 'Teams0']]\n",
    "df"
   ]
  },
  {
   "cell_type": "code",
   "execution_count": null,
   "metadata": {},
   "outputs": [],
   "source": [
    "def teamA(row):\n",
    "    val = row['Teams1'].rsplit(' ',1)[1]\n",
    "    return val\n",
    "df['TeamAScore'] = df.apply(teamA, axis=1)\n",
    "df"
   ]
  },
  {
   "cell_type": "code",
   "execution_count": null,
   "metadata": {},
   "outputs": [],
   "source": [
    "df[\"Teams0\"] = df[\"Teams0\"].str.replace(\"OT\",\"\")\n",
    "df"
   ]
  },
  {
   "cell_type": "code",
   "execution_count": null,
   "metadata": {},
   "outputs": [],
   "source": [
    "df1 = df\n",
    "df[\"Teams0\"] = df[\"Teams0\"].str.replace(\"  \",\" \")\n",
    "df.head()"
   ]
  },
  {
   "cell_type": "code",
   "execution_count": null,
   "metadata": {},
   "outputs": [],
   "source": [
    "def teamsBscore(row):\n",
    "    val = row['Teams0'].split(\" \")\n",
    "    return val[0]\n",
    "def teamAline(row):\n",
    "    val = row['Teams0'].split(\" \")\n",
    "    return val[1]\n",
    "def teamBline(row):\n",
    "    val = row['Teams0'].split(\" \")\n",
    "    return val[2]\n",
    "\n",
    "df['TeamBScore'] = df.apply(teamsBscore, axis=1)\n",
    "df['TeamAline'] = df.apply(teamAline, axis=1)\n",
    "df['TeamBline'] = df.apply(teamBline, axis=1)\n",
    "df"
   ]
  },
  {
   "cell_type": "code",
   "execution_count": null,
   "metadata": {},
   "outputs": [],
   "source": [
    "def teams(row):\n",
    "    val = row['Teams1'].split(\" \", 1)\n",
    "    return val[0]\n",
    "\n",
    "df['Teams1'] = df.apply(teams, axis=1)\n",
    "df"
   ]
  },
  {
   "cell_type": "code",
   "execution_count": null,
   "metadata": {},
   "outputs": [],
   "source": [
    "df1 = df[['TeamAScore','TeamBScore', 'TeamAline','TeamBline']]\n",
    "df1"
   ]
  },
  {
   "cell_type": "code",
   "execution_count": null,
   "metadata": {},
   "outputs": [],
   "source": [
    "df1.head()"
   ]
  },
  {
   "cell_type": "code",
   "execution_count": null,
   "metadata": {},
   "outputs": [],
   "source": [
    "writer = pd.ExcelWriter('ScoresMoneyLine.xlsx')\n",
    "df1.to_excel(writer,'Sheet1')\n",
    "writer.save()"
   ]
  },
  {
   "cell_type": "code",
   "execution_count": null,
   "metadata": {},
   "outputs": [],
   "source": [
    "def multiplier(line):\n",
    "    line = float(line)\n",
    "    if line < 0:\n",
    "        prob = ((abs(line)+100)/(abs(line)))\n",
    "    else:\n",
    "        prob = ((line+100)/100)\n",
    "    return float(prob)\n",
    "\n",
    "print(\"Multiplier of +100 would be \" + str(multiplier(100)) )\n",
    "print(\"Multiplier of -300 would be \" + str(multiplier(-300)) )"
   ]
  },
  {
   "cell_type": "code",
   "execution_count": null,
   "metadata": {},
   "outputs": [],
   "source": [
    "def prob(line):\n",
    "    line = float(line)\n",
    "    if line < 0:\n",
    "        prob = (abs(line)/(abs(line)+100))\n",
    "    else:\n",
    "        prob = (100/(line+100))\n",
    "    return float(prob)\n",
    "\n",
    "print(\"Probability of +100 would be \" + str(prob(100)) )\n",
    "print(\"Probability of -300 would be \" + str(prob(-300)) )"
   ]
  },
  {
   "cell_type": "code",
   "execution_count": null,
   "metadata": {},
   "outputs": [],
   "source": [
    "df1 = pd.read_excel(r'C:\\Users\\Matt\\ScoresMoneyLine.xlsx')\n",
    "df1"
   ]
  },
  {
   "cell_type": "code",
   "execution_count": null,
   "metadata": {},
   "outputs": [],
   "source": [
    "df1['ProbabilityA'] = df1.apply(lambda row: prob(row['TeamAline']), axis=1)\n",
    "df1['ProbabilityB'] = df1.apply(lambda row: prob(row['TeamBline']), axis=1)\n",
    "df1['MultiplierA'] = df1.apply(lambda row: multiplier(row['TeamAline']), axis=1)\n",
    "df1['MultiplierB'] = df1.apply(lambda row: multiplier(row['TeamBline']), axis=1)\n",
    "\n",
    "df1.head()"
   ]
  },
  {
   "cell_type": "code",
   "execution_count": null,
   "metadata": {},
   "outputs": [],
   "source": [
    "writer = pd.ExcelWriter('ProbLineData.xlsx')\n",
    "df1.to_excel(writer,'Sheet1')\n",
    "writer.save()"
   ]
  },
  {
   "cell_type": "code",
   "execution_count": null,
   "metadata": {},
   "outputs": [],
   "source": [
    "df1.head()"
   ]
  },
  {
   "cell_type": "code",
   "execution_count": null,
   "metadata": {},
   "outputs": [],
   "source": []
  },
  {
   "cell_type": "code",
   "execution_count": null,
   "metadata": {},
   "outputs": [],
   "source": []
  }
 ],
 "metadata": {
  "kernelspec": {
   "display_name": "Python 3",
   "language": "python",
   "name": "python3"
  },
  "language_info": {
   "codemirror_mode": {
    "name": "ipython",
    "version": 3
   },
   "file_extension": ".py",
   "mimetype": "text/x-python",
   "name": "python",
   "nbconvert_exporter": "python",
   "pygments_lexer": "ipython3",
   "version": "3.6.4"
  }
 },
 "nbformat": 4,
 "nbformat_minor": 2
}
