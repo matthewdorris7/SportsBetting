{
 "cells": [
  {
   "cell_type": "code",
   "execution_count": null,
   "metadata": {},
   "outputs": [],
   "source": [
    "import requests\n",
    "import pandas as pd\n",
    "import os\n",
    "import datetime\n",
    "import time \n",
    "from selenium import webdriver\n",
    "from selenium.webdriver.common.keys import Keys\n",
    "from bs4 import BeautifulSoup\n",
    "\n",
    "driver = webdriver.Chrome(executable_path=r\"C:\\\\Users\\\\Matt\\\\Downloads\\\\chromedriver.exe\")\n",
    "lines = []\n",
    "\n",
    "for year in range(2008, 2018):\n",
    "    for pageNum in range(1,31):\n",
    "        try:\n",
    "            url = \"https://www.oddsportal.com/basketball/usa/nba-\" + str(year) + \"-\" + str(year + 1) + \"/results/#/page/\" + str(pageNum) + \"/\"\n",
    "            driver.get(url)\n",
    "            time.sleep(5)\n",
    "            data = driver.find_elements_by_class_name(\"deactivate\")\n",
    "            for i in data:\n",
    "                print(i.text)\n",
    "                lines.append(i.text)\n",
    "                print(\"**********************\")\n",
    "        except:\n",
    "            continue\n"
   ]
  },
  {
   "cell_type": "code",
   "execution_count": null,
   "metadata": {},
   "outputs": [],
   "source": [
    "import pandas as pd\n",
    "df= pd.DataFrame()\n",
    "se = pd.Series(lines)\n",
    "df['new_col'] = se.values\n",
    "df\n"
   ]
  },
  {
   "cell_type": "code",
   "execution_count": null,
   "metadata": {},
   "outputs": [],
   "source": [
    "# import requests\n",
    "# import pandas as pd\n",
    "# import os\n",
    "# import datetime\n",
    "# import time \n",
    "# from selenium import webdriver\n",
    "# from selenium.webdriver.common.keys import Keys\n",
    "# from bs4 import BeautifulSoup\n",
    "\n",
    "\n",
    "# driver = webdriver.Chrome(executable_path=r\"C:\\\\Users\\\\Matt\\\\Downloads\\\\chromedriver.exe\")\n",
    "\n",
    "# for pageNum in range(1,31):\n",
    "#     #url = \"https://www.oddsportal.com/basketball/usa/nba-\" + str(year) + \"-\" + str(year + 1) + \"/results/\"\n",
    "#     url = \"https://www.oddsportal.com/basketball/usa/nba-2008-2009/results/#/page/\" + str(pageNum) + \"/\"\n",
    "#     driver.get(url)\n",
    "\n",
    "# import requests\n",
    "# import pandas as pd\n",
    "# import os\n",
    "# import datetime\n",
    "# import time \n",
    "# from selenium import webdriver\n",
    "# from selenium.webdriver.common.keys import Keys\n",
    "# from bs4 import BeautifulSoup\n",
    "# import lxml.html as lh\n",
    "\n",
    "# driver = webdriver.Chrome(executable_path=r\"C:\\\\Users\\\\Matt\\\\Downloads\\\\chromedriver.exe\")\n",
    "# url = \"https://www.oddsportal.com/basketball/usa/nba-2008-2009/results/#/page/3/\"\n",
    "# driver.get(url)\n",
    "\n",
    "# data = driver.find_elements_by_class_name(\"deactivate\")\n",
    "\n",
    "# lines = []\n",
    "# for i in data:\n",
    "#     print(i.text)\n",
    "#     lines.append(i.text)\n",
    "    \n",
    "# lines"
   ]
  }
 ],
 "metadata": {
  "kernelspec": {
   "display_name": "Python 3",
   "language": "python",
   "name": "python3"
  },
  "language_info": {
   "codemirror_mode": {
    "name": "ipython",
    "version": 3
   },
   "file_extension": ".py",
   "mimetype": "text/x-python",
   "name": "python",
   "nbconvert_exporter": "python",
   "pygments_lexer": "ipython3",
   "version": "3.6.4"
  }
 },
 "nbformat": 4,
 "nbformat_minor": 2
}
